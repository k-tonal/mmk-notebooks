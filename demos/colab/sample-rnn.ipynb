{
 "cells": [
  {
   "cell_type": "markdown",
   "id": "beefdc2e",
   "metadata": {},
   "source": [
    "## Connect to your GDrive \n",
    "In order to train the network on your data, create a directory named `data/`\n",
    "in the current working directory (cwd) of this notebook (when on colab and connected to gdrive\n",
    "this would be the `MyDrive/` directory in your gdrive account) and put audio files in it. "
   ]
  },
  {
   "cell_type": "code",
   "execution_count": null,
   "id": "d11c50f6",
   "metadata": {},
   "outputs": [],
   "source": [
    "from google.colab import drive\n",
    "drive.mount('/gdrive')\n",
    "# this set the cwd of the notebook\n",
    "%cd /gdrive/MyDrive "
   ]
  },
  {
   "cell_type": "markdown",
   "id": "cb01515c",
   "metadata": {},
   "source": [
    "### Install `mimikit`"
   ]
  },
  {
   "cell_type": "code",
   "execution_count": null,
   "id": "96a9ccf4",
   "metadata": {},
   "outputs": [],
   "source": [
    "%pip uninstall torchtext -y\n",
    "%pip install mimikit[colab]==0.4.1"
   ]
  },
  {
   "cell_type": "code",
   "execution_count": null,
   "id": "ed5f62bf",
   "metadata": {},
   "outputs": [],
   "source": [
    "# colab crashes if following import is done within mimikit\n",
    "import pytorch_lightning as pl"
   ]
  },
  {
   "cell_type": "markdown",
   "id": "dfad3883",
   "metadata": {},
   "source": [
    "### Load Data"
   ]
  },
  {
   "cell_type": "code",
   "execution_count": null,
   "id": "37bf2302",
   "metadata": {},
   "outputs": [],
   "source": [
    "import mimikit as mmk\n",
    "import h5mapper as h5m\n",
    "import os\n",
    "\n",
    "# list of files or directories to use as data (\"./\" is the cwd of the notebook)\n",
    "sources = tuple(h5m.FileWalker(mmk.SOUND_FILE_REGEX, \"./\"))\n",
    "SAMPLE_RATE = 16000\n",
    "\n",
    "db_path = \"train-srnn.h5\"\n",
    "if os.path.exists(db_path):\n",
    "    os.remove(db_path)\n",
    "\n",
    "signal = mmk.Extractor(\n",
    "    \"signal\",\n",
    "    mmk.Compose(mmk.FileToSignal(SAMPLE_RATE), mmk.RemoveDC(), mmk.Normalize()))\n",
    "ds = mmk.DatasetConfig(sources=sources,\n",
    "                       filename=db_path,\n",
    "                       extractors=(signal,))\n",
    "ds.create(mode=\"w\")\n",
    "dataset = ds.get(mode=\"r\", keep_open=True)\n",
    "\n",
    "N = dataset.signal.shape[0]\n",
    "print(f\"Dataset length in minutes is: {(N / SAMPLE_RATE) / 60:.2f}\")\n",
    "print(\"Extracted following files:\")\n",
    "for f in dataset.index:\n",
    "    print(\"\\t\", f)"
   ]
  },
  {
   "cell_type": "markdown",
   "id": "e4feae6d",
   "metadata": {},
   "source": [
    "### Configure Network"
   ]
  },
  {
   "cell_type": "code",
   "execution_count": null,
   "id": "327b5571",
   "metadata": {},
   "outputs": [],
   "source": [
    "# INPUT / TARGET\n",
    "\n",
    "io = mmk.IOSpec.mulaw_io(extractor=signal,\n",
    "                         config=mmk.IOSpec.MuLawIOConfig(\n",
    "                             sr=SAMPLE_RATE,\n",
    "                             compression=.5,\n",
    "                             mlp_dim=128,\n",
    "                             n_mlp_layers=0,\n",
    "                             min_temperature=1e-3\n",
    "                         ))\n",
    "\n",
    "# NETWORK\n",
    "\n",
    "net = mmk.SampleRNN.from_config(\n",
    "    mmk.SampleRNN.Config(rnn_class=\"lstm\",\n",
    "                         n_rnn=1,\n",
    "                         rnn_dropout=0.0,\n",
    "                         frame_sizes=(256, 128, 64, 32, 16, 8, 4, 8),\n",
    "                         hidden_dim=128,\n",
    "                         weight_norm=True,\n",
    "                         io_spec=io))"
   ]
  },
  {
   "cell_type": "markdown",
   "id": "95e3f0b0",
   "metadata": {},
   "source": [
    "### Configure Training"
   ]
  },
  {
   "cell_type": "code",
   "execution_count": null,
   "id": "8bbf1435",
   "metadata": {},
   "outputs": [],
   "source": [
    "# OPTIMIZATION LOOP\n",
    "loop = mmk.TrainARMLoop.from_config(\n",
    "    mmk.TrainARMConfig(max_lr=1e-3,\n",
    "                       betas=(0.9, 0.9),\n",
    "                       div_factor=1.,\n",
    "                       final_div_factor=1.,\n",
    "                       pct_start=0.0,\n",
    "                       temperature=(1., .75, 0.5, .1),\n",
    "                       n_examples=4,\n",
    "                       prompt_length_sec=1.,\n",
    "                       batch_size=32,\n",
    "                       tbptt_chunk_length=8 * SAMPLE_RATE,\n",
    "                       batch_length=2048,\n",
    "                       oversampling=4,\n",
    "                       limit_train_batches=None,\n",
    "                       max_epochs=2000,\n",
    "                       every_n_epochs=5,\n",
    "                       outputs_duration_sec=10,\n",
    "                       MONITOR_TRAINING=True,\n",
    "                       OUTPUT_TRAINING=False,\n",
    "                       CHECKPOINT_TRAINING=True),\n",
    "    dataset,\n",
    "    net,\n",
    ")"
   ]
  },
  {
   "cell_type": "markdown",
   "id": "381177a4",
   "metadata": {},
   "source": [
    "### RUN"
   ]
  },
  {
   "cell_type": "code",
   "execution_count": null,
   "id": "32095830",
   "metadata": {},
   "outputs": [],
   "source": [
    "loop.run()\n",
    "None"
   ]
  },
  {
   "cell_type": "markdown",
   "id": "4b69ae77",
   "metadata": {},
   "source": [
    "----------------------------"
   ]
  },
  {
   "cell_type": "markdown",
   "id": "e6be6a13",
   "metadata": {},
   "source": [
    "<img src=\"https://ktonal.com/k-circle-bw.png\" alt=\"logo\" width=\"75\"/>"
   ]
  }
 ],
 "metadata": {
  "accelerator": "GPU"
 },
 "nbformat": 4,
 "nbformat_minor": 5
}
