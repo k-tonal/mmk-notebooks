{
 "cells": [
  {
   "cell_type": "markdown",
   "id": "eaa24050",
   "metadata": {},
   "source": [
    "## Connect to your GDrive \n",
    "In order to train the network on your data, create a directory named `data/`\n",
    "in the current working directory (cwd) of this notebook (when on colab and connected to gdrive\n",
    "this would be the `MyDrive/` directory in your gdrive account) and put audio files in it. "
   ]
  },
  {
   "cell_type": "code",
   "execution_count": null,
   "id": "6e1e425e",
   "metadata": {},
   "outputs": [],
   "source": [
    "from google.colab import drive\n",
    "drive.mount('/gdrive')\n",
    "# this set the cwd of the notebook\n",
    "%cd /gdrive/MyDrive "
   ]
  },
  {
   "cell_type": "markdown",
   "id": "995eb220",
   "metadata": {},
   "source": [
    "### Install `mimikit`"
   ]
  },
  {
   "cell_type": "code",
   "execution_count": null,
   "id": "6c7ce4f2",
   "metadata": {},
   "outputs": [],
   "source": [
    "%pip uninstall torchtext -y\n",
    "%pip install mimikit[colab]==0.4.1"
   ]
  },
  {
   "cell_type": "code",
   "execution_count": null,
   "id": "5089d5e3",
   "metadata": {},
   "outputs": [],
   "source": [
    "# colab crashes if following import is done within mimikit\n",
    "import pytorch_lightning as pl"
   ]
  },
  {
   "cell_type": "markdown",
   "id": "ba26a118",
   "metadata": {},
   "source": [
    "Generate From Checkpoint"
   ]
  },
  {
   "cell_type": "code",
   "execution_count": null,
   "id": "aeef0233",
   "metadata": {},
   "outputs": [],
   "source": [
    "import mimikit as mmk\n",
    "\n",
    "# load a checkpoint\n",
    "ckpt = mmk.Checkpoint(\n",
    "    root_dir=\"./\",\n",
    "    id='84e89798e',\n",
    "    epoch=1\n",
    ")\n",
    "\n",
    "# prompt positions in seconds\n",
    "\n",
    "loop = mmk.GenerateLoopV2.from_config(\n",
    "    mmk.GenerateLoopV2.Config(\n",
    "        output_duration_sec=30.,\n",
    "        prompts_length_sec=1.,\n",
    "        prompts_position_sec=(\n",
    "            1.1, 8.5, 46.3\n",
    "        ),\n",
    "        batch_size=3,\n",
    "        display_waveform=True\n",
    "    ),\n",
    "    ckpt.dataset,\n",
    "    ckpt.network\n",
    ")\n",
    "for _ in loop.run():\n",
    "    continue"
   ]
  },
  {
   "cell_type": "markdown",
   "id": "19cb0fbc",
   "metadata": {},
   "source": [
    "----------------------------"
   ]
  },
  {
   "cell_type": "markdown",
   "id": "938e8f8c",
   "metadata": {},
   "source": [
    "<img src=\"https://ktonal.com/k-circle-bw.png\" alt=\"logo\" width=\"75\"/>"
   ]
  }
 ],
 "metadata": {
  "accelerator": "GPU"
 },
 "nbformat": 4,
 "nbformat_minor": 5
}
