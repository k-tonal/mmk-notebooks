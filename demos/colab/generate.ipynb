{
 "cells": [
  {
   "cell_type": "markdown",
   "id": "732aa542",
   "metadata": {},
   "source": [
    "## Connect to your GDrive \n",
    "In order to train the network on your data, create a directory named `data/`\n",
    "in the current working directory (cwd) of this notebook (when on colab and connected to gdrive\n",
    "this would be the `MyDrive/` directory in your gdrive account) and put audio files in it. "
   ]
  },
  {
   "cell_type": "code",
   "execution_count": null,
   "id": "9da0fac0",
   "metadata": {},
   "outputs": [],
   "source": [
    "from google.colab import drive\n",
    "drive.mount('/gdrive')\n",
    "# this set the cwd of the notebook\n",
    "%cd /gdrive/MyDrive "
   ]
  },
  {
   "cell_type": "markdown",
   "id": "faff1573",
   "metadata": {},
   "source": [
    "### Install `mimikit`"
   ]
  },
  {
   "cell_type": "code",
   "execution_count": null,
   "id": "e6e0ebb2",
   "metadata": {},
   "outputs": [],
   "source": [
    "%pip uninstall torchtext -y\n",
    "%pip install torch==1.13.1+cu116 torchvision==0.14.1+cu116 torchaudio==0.13.1 --extra-index-url https://download.pytorch.org/whl/cu116\n",
    "%pip install mimikit[colab]==0.4.3"
   ]
  },
  {
   "cell_type": "code",
   "execution_count": null,
   "id": "11b04889",
   "metadata": {},
   "outputs": [],
   "source": [
    "# colab crashes if following import is done within mimikit\n",
    "import pytorch_lightning as pl"
   ]
  },
  {
   "cell_type": "markdown",
   "id": "80c3d62b",
   "metadata": {},
   "source": [
    "Generate From Checkpoint"
   ]
  },
  {
   "cell_type": "code",
   "execution_count": null,
   "id": "d8bcebd2",
   "metadata": {},
   "outputs": [],
   "source": [
    "import mimikit as mmk\n",
    "\n",
    "# load a checkpoint\n",
    "ckpt = mmk.Checkpoint(\n",
    "    root_dir=\"./\",\n",
    "    id='84e89798e',\n",
    "    epoch=1\n",
    ")\n",
    "\n",
    "# prompt positions in seconds\n",
    "\n",
    "loop = mmk.GenerateLoopV2.from_config(\n",
    "    mmk.GenerateLoopV2.Config(\n",
    "        output_duration_sec=30.,\n",
    "        prompts_length_sec=1.,\n",
    "        prompts_position_sec=(\n",
    "            1.1, 8.5, 46.3\n",
    "        ),\n",
    "        batch_size=3,\n",
    "        display_waveform=True\n",
    "    ),\n",
    "    ckpt.dataset,\n",
    "    ckpt.network\n",
    ")\n",
    "for _ in loop.run():\n",
    "    continue"
   ]
  },
  {
   "cell_type": "markdown",
   "id": "740362f9",
   "metadata": {},
   "source": [
    "----------------------------"
   ]
  },
  {
   "cell_type": "markdown",
   "id": "70490fad",
   "metadata": {},
   "source": [
    "<img src=\"https://ktonal.com/k-circle-bw.png\" alt=\"logo\" width=\"75\"/>"
   ]
  }
 ],
 "metadata": {
  "accelerator": "GPU"
 },
 "nbformat": 4,
 "nbformat_minor": 5
}
