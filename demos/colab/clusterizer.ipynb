{
 "cells": [
  {
   "cell_type": "markdown",
   "id": "8b27cda2",
   "metadata": {},
   "source": [
    "## Connect to your GDrive \n",
    "In order to train the network on your data, create a directory named `data/`\n",
    "in the current working directory (cwd) of this notebook (when on colab and connected to gdrive\n",
    "this would be the `MyDrive/` directory in your gdrive account) and put audio files in it. "
   ]
  },
  {
   "cell_type": "code",
   "execution_count": null,
   "id": "e9a885c9",
   "metadata": {},
   "outputs": [],
   "source": [
    "from google.colab import drive\n",
    "drive.mount('/gdrive')\n",
    "# this set the cwd of the notebook\n",
    "%cd /gdrive/MyDrive "
   ]
  },
  {
   "cell_type": "markdown",
   "id": "20c0492f",
   "metadata": {},
   "source": [
    "### Install `mimikit`"
   ]
  },
  {
   "cell_type": "code",
   "execution_count": null,
   "id": "e9b534d5",
   "metadata": {},
   "outputs": [],
   "source": [
    "%pip uninstall torchtext -y\n",
    "%pip install mimikit[colab]==0.4.0"
   ]
  },
  {
   "cell_type": "code",
   "execution_count": null,
   "id": "2da3b906",
   "metadata": {},
   "outputs": [],
   "source": [
    "# colab crashes if following import is done within mimikit\n",
    "import pytorch_lightning as pl"
   ]
  },
  {
   "cell_type": "markdown",
   "id": "2411130c",
   "metadata": {},
   "source": [
    "### Launch the app"
   ]
  },
  {
   "cell_type": "code",
   "execution_count": null,
   "id": "7636d6b3",
   "metadata": {},
   "outputs": [],
   "source": [
    "import mimikit as mmk\n",
    "from ipywidgets import widgets as W\n",
    "import IPython.display as ipd\n",
    "\n",
    "ipd.display(mmk.MMK_STYLE_SHEET)\n",
    "ipd.display(W.HTML(\n",
    "    \"\"\"\n",
    "    <style>\n",
    "    .container {\n",
    "        width: 95% !important;\n",
    "    }\n",
    "    \"\"\"\n",
    "))\n",
    "\n",
    "app = mmk.ClusterizerApp()\n",
    "\n",
    "ipd.display(\n",
    "    app.dataset_widget,\n",
    "    app.clustering_widget,\n",
    "    app.labels_widget\n",
    ")"
   ]
  },
  {
   "cell_type": "markdown",
   "id": "f53c06cd",
   "metadata": {},
   "source": [
    "### Note"
   ]
  },
  {
   "cell_type": "markdown",
   "id": "2374b86a",
   "metadata": {},
   "source": [
    "\n",
    "you can interact with the waveform/widgets with following shortcuts:\n",
    "\n",
    "- Navigation:\n",
    "    * `Ctrl + wheel`: zoom\n",
    "    * `SHIFT + dbl-click`: reset zoom\n",
    "    * `SHIFT + wheel`: scroll wvaveform\n",
    "    * `arrow left/right`: move playhead left/right\n",
    "    * `SHIFT + arrow left/right`: move playhead left/right a lot.\n",
    "- Controls:\n",
    "    * `dbl-click`: play from there\n",
    "    * `SPACE BAR`: play/pause \n",
    "- Segments:\n",
    "    * `alt + click`: add segment\n",
    "    * `alt + SHIFT + click` on a segment: remove segment\n",
    "    * `Ctrl + alt + click` on a segment: edit segment's label\n",
    "\n",
    "you can also drag segments' boundaries with the mouse to edit their position"
   ]
  },
  {
   "cell_type": "markdown",
   "id": "e5567ba1",
   "metadata": {},
   "source": [
    "----------------------------"
   ]
  },
  {
   "cell_type": "markdown",
   "id": "27240238",
   "metadata": {},
   "source": [
    "<img src=\"https://ktonal.com/k-circle-bw.png\" alt=\"logo\" width=\"75\"/>"
   ]
  }
 ],
 "metadata": {
  "accelerator": "GPU"
 },
 "nbformat": 4,
 "nbformat_minor": 5
}
