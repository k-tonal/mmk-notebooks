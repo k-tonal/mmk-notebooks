{
 "cells": [
  {
   "cell_type": "markdown",
   "id": "aa25cf79",
   "metadata": {},
   "source": [
    "## Connect to your GDrive \n",
    "In order to train the network on your data, create a directory named `data/`\n",
    "in the current working directory (cwd) of this notebook (when on colab and connected to gdrive\n",
    "this would be the `MyDrive/` directory in your gdrive account) and put audio files in it. "
   ]
  },
  {
   "cell_type": "code",
   "execution_count": null,
   "id": "9d88b773",
   "metadata": {},
   "outputs": [],
   "source": [
    "from google.colab import drive\n",
    "drive.mount('/gdrive')\n",
    "# this set the cwd of the notebook\n",
    "%cd /gdrive/MyDrive "
   ]
  },
  {
   "cell_type": "markdown",
   "id": "3b97fb75",
   "metadata": {},
   "source": [
    "### Install `mimikit`"
   ]
  },
  {
   "cell_type": "code",
   "execution_count": null,
   "id": "1d0f4455",
   "metadata": {},
   "outputs": [],
   "source": [
    "%pip uninstall torchtext -y\n",
    "%pip install mimikit[colab]==0.4.1"
   ]
  },
  {
   "cell_type": "code",
   "execution_count": null,
   "id": "01b4231c",
   "metadata": {},
   "outputs": [],
   "source": [
    "# colab crashes if following import is done within mimikit\n",
    "import pytorch_lightning as pl"
   ]
  },
  {
   "cell_type": "markdown",
   "id": "ca5a5db3",
   "metadata": {},
   "source": [
    "### imports"
   ]
  },
  {
   "cell_type": "code",
   "execution_count": null,
   "id": "81c9e0e7",
   "metadata": {},
   "outputs": [],
   "source": [
    "import h5mapper as h5m\n",
    "import mimikit as mmk\n",
    "from pbind import Pseq, Pbind, Pwhite, inf"
   ]
  },
  {
   "cell_type": "markdown",
   "id": "387c7d49",
   "metadata": {},
   "source": [
    "### Get some checkpoints"
   ]
  },
  {
   "cell_type": "code",
   "execution_count": null,
   "id": "fa7f245d",
   "metadata": {},
   "outputs": [],
   "source": [
    "ROOT_DIR = './'\n",
    "checkpoints = {}\n",
    "for i, path in enumerate(h5m.FileWalker(mmk.CHECKPOINT_REGEX, ROOT_DIR)):\n",
    "    checkpoints[i] = mmk.Checkpoint.from_path(path)\n",
    "checkpoints"
   ]
  },
  {
   "cell_type": "markdown",
   "id": "513849d6",
   "metadata": {},
   "source": [
    "### Get the prompts from which to generate"
   ]
  },
  {
   "cell_type": "code",
   "execution_count": null,
   "id": "eb00cdac",
   "metadata": {},
   "outputs": [],
   "source": [
    "db = checkpoints[0].dataset\n",
    "\n",
    "OUTPUT_SR = 22050\n",
    "PROMPTS_POS_SEC = (\n",
    "    0, OUTPUT_SR // 2, OUTPUT_SR\n",
    ")\n",
    "PROMPT_LENGTH_SEC = OUTPUT_SR\n",
    "\n",
    "# get a batch of prompts\n",
    "prompts = next(iter(db.serve(\n",
    "    (h5m.Input(data='signal', getter=h5m.AsSlice(shift=0, length=PROMPT_LENGTH_SEC)),),\n",
    "    shuffle=False,\n",
    "    # batch_size=1 --> new stream for each prompt <> batch_size=8 --> one stream for 8 prompts :\n",
    "    batch_size=len(PROMPTS_POS_SEC),\n",
    "    sampler=mmk.IndicesSampler(\n",
    "        # INDICES FOR THE PROMPTS :\n",
    "        indices=PROMPTS_POS_SEC\n",
    "    ))))[0]\n",
    "prompts.shape"
   ]
  },
  {
   "cell_type": "markdown",
   "id": "5990a26a",
   "metadata": {},
   "source": [
    "### Define a pattern of models"
   ]
  },
  {
   "cell_type": "code",
   "execution_count": null,
   "id": "7369f0be",
   "metadata": {},
   "outputs": [],
   "source": [
    "# THE MODELS PATTERN defines which checkpoint (id, epoch) generates for how long (seconds)\n",
    "\n",
    "stream = Pseq([\n",
    "    Pbind(\n",
    "        \"generator\", checkpoints[0],\n",
    "        \"seconds\", Pwhite(lo=3., hi=5., repeats=1)\n",
    "    ),\n",
    "    # Pbind(\n",
    "    #     # TODO: This event inserts the most similar continuation from the Trainset \"Cough\"\n",
    "    #     \"seconds\", Pwhite(lo=2., hi=5., repeats=1)\n",
    "    # ),\n",
    "    Pbind(\n",
    "        \"generator\", checkpoints[1],\n",
    "        # SampleRNN Checkpoints work best with a temperature parameter :\n",
    "        \"temperature\", Pwhite(lo=.25, hi=1.5),\n",
    "        \"seconds\", Pwhite(lo=.1, hi=1., repeats=1),\n",
    "    )\n",
    "], inf).asStream()\n",
    "stream"
   ]
  },
  {
   "cell_type": "markdown",
   "id": "91b5e4dd",
   "metadata": {},
   "source": [
    "### Generate"
   ]
  },
  {
   "cell_type": "code",
   "execution_count": null,
   "id": "d65af6b4",
   "metadata": {},
   "outputs": [],
   "source": [
    "TOTAL_SECONDS = 10.\n",
    "\n",
    "ensemble = mmk.EnsembleGenerator(\n",
    "    prompts, TOTAL_SECONDS, OUTPUT_SR, stream,\n",
    "    # with this you can print the event -- or not\n",
    "    print_events=False\n",
    ")\n",
    "outputs = ensemble.run()\n",
    "logger = mmk.AudioLogger(sr=OUTPUT_SR)\n",
    "logger.display_batch(outputs)"
   ]
  },
  {
   "cell_type": "markdown",
   "id": "f4ca3254",
   "metadata": {},
   "source": [
    "----------------------------"
   ]
  },
  {
   "cell_type": "markdown",
   "id": "25dbe413",
   "metadata": {},
   "source": [
    "<img src=\"https://ktonal.com/k-circle-bw.png\" alt=\"logo\" width=\"75\"/>"
   ]
  }
 ],
 "metadata": {
  "accelerator": "GPU"
 },
 "nbformat": 4,
 "nbformat_minor": 5
}
