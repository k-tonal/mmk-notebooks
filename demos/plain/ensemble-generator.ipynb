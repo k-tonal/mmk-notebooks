{
 "cells": [
  {
   "cell_type": "markdown",
   "id": "1d11494f",
   "metadata": {},
   "source": [
    "this notebook assumes you already installed mimikit on your system through the command-line\n",
    "```bash\n",
    "pip install mimikit[torch]==0.4.0\n",
    "```\n"
   ]
  },
  {
   "cell_type": "markdown",
   "id": "f4597d7e",
   "metadata": {},
   "source": [
    "### imports"
   ]
  },
  {
   "cell_type": "code",
   "execution_count": null,
   "id": "671c520d",
   "metadata": {},
   "outputs": [],
   "source": [
    "import h5mapper as h5m\n",
    "import mimikit as mmk\n",
    "from pbind import Pseq, Pbind, Pwhite, inf"
   ]
  },
  {
   "cell_type": "markdown",
   "id": "c385af37",
   "metadata": {},
   "source": [
    "### Get some checkpoints"
   ]
  },
  {
   "cell_type": "code",
   "execution_count": null,
   "id": "17c398a2",
   "metadata": {},
   "outputs": [],
   "source": [
    "ROOT_DIR = './'\n",
    "checkpoints = {}\n",
    "for i, path in enumerate(h5m.FileWalker(mmk.CHECKPOINT_REGEX, ROOT_DIR)):\n",
    "    checkpoints[i] = mmk.Checkpoint.from_path(path)\n",
    "checkpoints"
   ]
  },
  {
   "cell_type": "markdown",
   "id": "3242eaa9",
   "metadata": {},
   "source": [
    "### Get the prompts from which to generate"
   ]
  },
  {
   "cell_type": "code",
   "execution_count": null,
   "id": "0299e4aa",
   "metadata": {},
   "outputs": [],
   "source": [
    "db = checkpoints[0].dataset\n",
    "\n",
    "OUTPUT_SR = 22050\n",
    "PROMPTS_POS_SEC = (\n",
    "    0, OUTPUT_SR // 2, OUTPUT_SR\n",
    ")\n",
    "PROMPT_LENGTH_SEC = OUTPUT_SR\n",
    "\n",
    "# get a batch of prompts\n",
    "prompts = next(iter(db.serve(\n",
    "    (h5m.Input(data='signal', getter=h5m.AsSlice(shift=0, length=PROMPT_LENGTH_SEC)),),\n",
    "    shuffle=False,\n",
    "    # batch_size=1 --> new stream for each prompt <> batch_size=8 --> one stream for 8 prompts :\n",
    "    batch_size=len(PROMPTS_POS_SEC),\n",
    "    sampler=mmk.IndicesSampler(\n",
    "        # INDICES FOR THE PROMPTS :\n",
    "        indices=PROMPTS_POS_SEC\n",
    "    ))))[0]\n",
    "prompts.shape"
   ]
  },
  {
   "cell_type": "markdown",
   "id": "59fc82d7",
   "metadata": {},
   "source": [
    "### Define a pattern of models"
   ]
  },
  {
   "cell_type": "code",
   "execution_count": null,
   "id": "429e0f9e",
   "metadata": {},
   "outputs": [],
   "source": [
    "# THE MODELS PATTERN defines which checkpoint (id, epoch) generates for how long (seconds)\n",
    "\n",
    "stream = Pseq([\n",
    "    Pbind(\n",
    "        \"generator\", checkpoints[0],\n",
    "        \"seconds\", Pwhite(lo=3., hi=5., repeats=1)\n",
    "    ),\n",
    "    # Pbind(\n",
    "    #     # TODO: This event inserts the most similar continuation from the Trainset \"Cough\"\n",
    "    #     \"seconds\", Pwhite(lo=2., hi=5., repeats=1)\n",
    "    # ),\n",
    "    Pbind(\n",
    "        \"generator\", checkpoints[1],\n",
    "        # SampleRNN Checkpoints work best with a temperature parameter :\n",
    "        \"temperature\", Pwhite(lo=.25, hi=1.5),\n",
    "        \"seconds\", Pwhite(lo=.1, hi=1., repeats=1),\n",
    "    )\n",
    "], inf).asStream()\n",
    "stream"
   ]
  },
  {
   "cell_type": "markdown",
   "id": "af17dda3",
   "metadata": {},
   "source": [
    "### Generate"
   ]
  },
  {
   "cell_type": "code",
   "execution_count": null,
   "id": "3e18da11",
   "metadata": {},
   "outputs": [],
   "source": [
    "TOTAL_SECONDS = 10.\n",
    "\n",
    "ensemble = mmk.EnsembleGenerator(\n",
    "    prompts, TOTAL_SECONDS, OUTPUT_SR, stream,\n",
    "    # with this you can print the event -- or not\n",
    "    print_events=False\n",
    ")\n",
    "outputs = ensemble.run()\n",
    "logger = mmk.AudioLogger(sr=OUTPUT_SR)\n",
    "logger.display_batch(outputs)"
   ]
  },
  {
   "cell_type": "markdown",
   "id": "38372717",
   "metadata": {},
   "source": [
    "----------------------------"
   ]
  },
  {
   "cell_type": "markdown",
   "id": "16ad54c6",
   "metadata": {},
   "source": [
    "<img src=\"https://ktonal.com/k-circle-bw.png\" alt=\"logo\" width=\"75\"/>"
   ]
  }
 ],
 "metadata": {},
 "nbformat": 4,
 "nbformat_minor": 5
}
