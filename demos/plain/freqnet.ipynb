{
 "cells": [
  {
   "cell_type": "markdown",
   "id": "2df1bdf7",
   "metadata": {},
   "source": [
    "this notebook assumes you already installed mimikit on your system through the command-line\n",
    "```bash\n",
    "pip install mimikit[torch]==0.4.1\n",
    "```\n"
   ]
  },
  {
   "cell_type": "markdown",
   "id": "29c200b8",
   "metadata": {},
   "source": [
    "### Load Data"
   ]
  },
  {
   "cell_type": "code",
   "execution_count": null,
   "id": "4059fa03",
   "metadata": {},
   "outputs": [],
   "source": [
    "import mimikit as mmk\n",
    "import h5mapper as h5m\n",
    "import os\n",
    "\n",
    "# DATA\n",
    "\n",
    "# list of files or directories to use as data (\"./\" is the cwd of the notebook)\n",
    "sources = tuple(h5m.FileWalker(mmk.SOUND_FILE_REGEX, \"./\"))\n",
    "SAMPLE_RATE = 22050\n",
    "\n",
    "db_path = \"train-freqnet.h5\"\n",
    "if os.path.exists(db_path):\n",
    "    os.remove(db_path)\n",
    "\n",
    "signal = mmk.Extractor(\n",
    "    \"signal\",\n",
    "    mmk.Compose(mmk.FileToSignal(SAMPLE_RATE), mmk.RemoveDC(), mmk.Normalize()))\n",
    "ds = mmk.DatasetConfig(sources=sources,\n",
    "                       filename=db_path,\n",
    "                       extractors=(signal,))\n",
    "ds.create(mode=\"w\")\n",
    "dataset = ds.get(mode=\"r\", keep_open=True)\n",
    "\n",
    "N = dataset.signal.shape[0]\n",
    "print(f\"Dataset length in minutes is: {(N / SAMPLE_RATE) / 60:.2f}\")\n",
    "print(\"Extracted following files:\")\n",
    "for f in dataset.index:\n",
    "    print(\"\\t\", f)"
   ]
  },
  {
   "cell_type": "markdown",
   "id": "7c86acdd",
   "metadata": {},
   "source": [
    "### Configure Network"
   ]
  },
  {
   "cell_type": "code",
   "execution_count": null,
   "id": "9cf77be1",
   "metadata": {},
   "outputs": [],
   "source": [
    "# INPUT / TARGET\n",
    "io = mmk.IOSpec.magspec_io(\n",
    "    mmk.IOSpec.MagSpecIOConfig(\n",
    "        sr=SAMPLE_RATE,\n",
    "        n_fft=2048,\n",
    "        hop_length=512,\n",
    "        activation=\"Identity\"\n",
    "    ),\n",
    "    signal\n",
    ")\n",
    "\n",
    "# NETWORK\n",
    "\n",
    "net = mmk.WaveNet.from_config(\n",
    "    mmk.WaveNet.Config(\n",
    "        io_spec=io,\n",
    "        kernel_sizes=(2,),\n",
    "        blocks=(3,),\n",
    "        dims_dilated=(2048,),\n",
    "        apply_residuals=False,\n",
    "        residuals_dim=None,\n",
    "        skips_dim=None,\n",
    "        groups=8,\n",
    "        act_f=\"Tanh\",\n",
    "        act_g=\"Sigmoid\",\n",
    "        pad_side=0,\n",
    "        bias=True,\n",
    "        use_fast_generate=False,\n",
    "        tie_io_weights=False\n",
    "    ))"
   ]
  },
  {
   "cell_type": "markdown",
   "id": "e6ffee2f",
   "metadata": {},
   "source": [
    "### Configure Training"
   ]
  },
  {
   "cell_type": "code",
   "execution_count": null,
   "id": "29b90d53",
   "metadata": {},
   "outputs": [],
   "source": [
    "# OPTIMIZATION LOOP\n",
    "loop = mmk.TrainARMLoop.from_config(\n",
    "    mmk.TrainARMConfig(max_lr=1e-3,\n",
    "                       betas=(0.9, 0.9),\n",
    "                       div_factor=1.,\n",
    "                       final_div_factor=1.,\n",
    "                       pct_start=0.0,\n",
    "                       n_examples=4,\n",
    "                       prompt_length_sec=3.,\n",
    "                       batch_size=16,\n",
    "                       tbptt_chunk_length=None,\n",
    "                       batch_length=64,\n",
    "                       downsampling=64,\n",
    "                       limit_train_batches=10000,\n",
    "                       max_epochs=300,\n",
    "                       every_n_epochs=10,\n",
    "                       outputs_duration_sec=60,\n",
    "                       MONITOR_TRAINING=True,\n",
    "                       OUTPUT_TRAINING=False,\n",
    "                       CHECKPOINT_TRAINING=True),\n",
    "    dataset,\n",
    "    net,\n",
    ")"
   ]
  },
  {
   "cell_type": "markdown",
   "id": "c3095a3d",
   "metadata": {},
   "source": [
    "### RUN"
   ]
  },
  {
   "cell_type": "code",
   "execution_count": null,
   "id": "b55e9cd0",
   "metadata": {},
   "outputs": [],
   "source": [
    "loop.run()\n",
    "None"
   ]
  },
  {
   "cell_type": "markdown",
   "id": "ecb60e19",
   "metadata": {},
   "source": [
    "----------------------------"
   ]
  },
  {
   "cell_type": "markdown",
   "id": "bb4ac6eb",
   "metadata": {},
   "source": [
    "<img src=\"https://ktonal.com/k-circle-bw.png\" alt=\"logo\" width=\"75\"/>"
   ]
  }
 ],
 "metadata": {},
 "nbformat": 4,
 "nbformat_minor": 5
}
