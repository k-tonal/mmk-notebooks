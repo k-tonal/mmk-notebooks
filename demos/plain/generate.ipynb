{
 "cells": [
  {
   "cell_type": "markdown",
   "id": "892fbfeb",
   "metadata": {},
   "source": [
    "this notebook assumes you already installed mimikit on your system through the command-line\n",
    "```bash\n",
    "pip install mimikit[torch]==0.4.1\n",
    "```\n"
   ]
  },
  {
   "cell_type": "markdown",
   "id": "710c02e4",
   "metadata": {},
   "source": [
    "Generate From Checkpoint"
   ]
  },
  {
   "cell_type": "code",
   "execution_count": null,
   "id": "9cd21e85",
   "metadata": {},
   "outputs": [],
   "source": [
    "import mimikit as mmk\n",
    "\n",
    "# load a checkpoint\n",
    "ckpt = mmk.Checkpoint(\n",
    "    root_dir=\"./\",\n",
    "    id='84e89798e',\n",
    "    epoch=1\n",
    ")\n",
    "\n",
    "# prompt positions in seconds\n",
    "\n",
    "loop = mmk.GenerateLoopV2.from_config(\n",
    "    mmk.GenerateLoopV2.Config(\n",
    "        output_duration_sec=30.,\n",
    "        prompts_length_sec=1.,\n",
    "        prompts_position_sec=(\n",
    "            1.1, 8.5, 46.3\n",
    "        ),\n",
    "        batch_size=3,\n",
    "        display_waveform=True\n",
    "    ),\n",
    "    ckpt.dataset,\n",
    "    ckpt.network\n",
    ")\n",
    "for _ in loop.run():\n",
    "    continue"
   ]
  },
  {
   "cell_type": "markdown",
   "id": "000693eb",
   "metadata": {},
   "source": [
    "----------------------------"
   ]
  },
  {
   "cell_type": "markdown",
   "id": "7639410c",
   "metadata": {},
   "source": [
    "<img src=\"https://ktonal.com/k-circle-bw.png\" alt=\"logo\" width=\"75\"/>"
   ]
  }
 ],
 "metadata": {},
 "nbformat": 4,
 "nbformat_minor": 5
}
