{
 "cells": [
  {
   "cell_type": "markdown",
   "id": "9a7397c0",
   "metadata": {},
   "source": [
    "this notebook assumes you already installed mimikit on your system through the command-line\n",
    "```bash\n",
    "pip install mimikit[torch]==0.4.1\n",
    "```\n"
   ]
  },
  {
   "cell_type": "markdown",
   "id": "58635d5c",
   "metadata": {},
   "source": [
    "### Launch the app"
   ]
  },
  {
   "cell_type": "code",
   "execution_count": null,
   "id": "71deb0c2",
   "metadata": {},
   "outputs": [],
   "source": [
    "try:\n",
    "    from google.colab import output\n",
    "    output.enable_custom_widget_manager()\n",
    "except ImportError:\n",
    "    pass\n",
    "import mimikit as mmk\n",
    "from ipywidgets import widgets as W\n",
    "import IPython.display as ipd\n",
    "\n",
    "ipd.display(mmk.MMK_STYLE_SHEET)\n",
    "ipd.display(W.HTML(\n",
    "    \"\"\"\n",
    "    <style>\n",
    "    .container {\n",
    "        width: 95% !important;\n",
    "    }\n",
    "    \"\"\"\n",
    "))\n",
    "\n",
    "app = mmk.ClusterizerApp()\n",
    "\n",
    "ipd.display(\n",
    "    app.dataset_widget,\n",
    "    app.clustering_widget,\n",
    "    app.labels_widget\n",
    ")"
   ]
  },
  {
   "cell_type": "markdown",
   "id": "895575da",
   "metadata": {},
   "source": [
    "### Note"
   ]
  },
  {
   "cell_type": "markdown",
   "id": "e2cfba89",
   "metadata": {},
   "source": [
    "\n",
    "you can interact with the waveform/widgets with following shortcuts:\n",
    "\n",
    "- Navigation:\n",
    "    * `Ctrl + wheel`: zoom\n",
    "    * `SHIFT + dbl-click`: reset zoom\n",
    "    * `SHIFT + wheel`: scroll wvaveform\n",
    "    * `arrow left/right`: move playhead left/right\n",
    "    * `SHIFT + arrow left/right`: move playhead left/right a lot.\n",
    "- Controls:\n",
    "    * `dbl-click`: play from there\n",
    "    * `SPACE BAR`: play/pause \n",
    "- Segments:\n",
    "    * `alt + click`: add segment\n",
    "    * `alt + SHIFT + click` on a segment: remove segment\n",
    "    * `Ctrl + alt + click` on a segment: edit segment's label\n",
    "\n",
    "you can also drag segments' boundaries with the mouse to edit their position"
   ]
  },
  {
   "cell_type": "markdown",
   "id": "6e23492c",
   "metadata": {},
   "source": [
    "----------------------------"
   ]
  },
  {
   "cell_type": "markdown",
   "id": "2fb60de8",
   "metadata": {},
   "source": [
    "<img src=\"https://ktonal.com/k-circle-bw.png\" alt=\"logo\" width=\"75\"/>"
   ]
  }
 ],
 "metadata": {},
 "nbformat": 4,
 "nbformat_minor": 5
}
