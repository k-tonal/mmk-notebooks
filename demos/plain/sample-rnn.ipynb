{
 "cells": [
  {
   "cell_type": "markdown",
   "id": "4282de82",
   "metadata": {},
   "source": [
    "this notebook assumes you already installed mimikit on your system through the command-line\n",
    "```bash\n",
    "pip install mimikit[torch]==0.4.0\n",
    "```\n"
   ]
  },
  {
   "cell_type": "markdown",
   "id": "8f441a39",
   "metadata": {},
   "source": [
    "### Load Data"
   ]
  },
  {
   "cell_type": "code",
   "execution_count": null,
   "id": "68efb20e",
   "metadata": {},
   "outputs": [],
   "source": [
    "import mimikit as mmk\n",
    "import h5mapper as h5m\n",
    "import os\n",
    "\n",
    "# list of files or directories to use as data (\"./\" is the cwd of the notebook)\n",
    "sources = tuple(h5m.FileWalker(mmk.SOUND_FILE_REGEX, \"./\"))\n",
    "SAMPLE_RATE = 16000\n",
    "\n",
    "db_path = \"train-srnn.h5\"\n",
    "if os.path.exists(db_path):\n",
    "    os.remove(db_path)\n",
    "\n",
    "signal = mmk.Extractor(\n",
    "    \"signal\",\n",
    "    mmk.Compose(mmk.FileToSignal(SAMPLE_RATE), mmk.RemoveDC(), mmk.Normalize()))\n",
    "ds = mmk.DatasetConfig(sources=sources,\n",
    "                       filename=db_path,\n",
    "                       extractors=(signal,))\n",
    "ds.create(mode=\"w\")\n",
    "dataset = ds.get(mode=\"r\", keep_open=True)\n",
    "\n",
    "N = dataset.signal.shape[0]\n",
    "print(f\"Dataset length in minutes is: {(N / SAMPLE_RATE) / 60:.2f}\")\n",
    "print(\"Extracted following files:\")\n",
    "for f in dataset.index:\n",
    "    print(\"\\t\", f)"
   ]
  },
  {
   "cell_type": "markdown",
   "id": "4d038142",
   "metadata": {},
   "source": [
    "### Configure Network"
   ]
  },
  {
   "cell_type": "code",
   "execution_count": null,
   "id": "d5001b4d",
   "metadata": {},
   "outputs": [],
   "source": [
    "# INPUT / TARGET\n",
    "\n",
    "io = mmk.IOSpec.mulaw_io(extractor=signal,\n",
    "                         config=mmk.IOSpec.MuLawIOConfig(\n",
    "                             sr=SAMPLE_RATE,\n",
    "                             compression=.5,\n",
    "                             mlp_dim=128,\n",
    "                             n_mlp_layers=0,\n",
    "                             min_temperature=1e-3\n",
    "                         ))\n",
    "\n",
    "# NETWORK\n",
    "\n",
    "net = mmk.SampleRNN.from_config(\n",
    "    mmk.SampleRNN.Config(rnn_class=\"lstm\",\n",
    "                         n_rnn=1,\n",
    "                         rnn_dropout=0.0,\n",
    "                         frame_sizes=(256, 128, 64, 32, 16, 8, 4, 8),\n",
    "                         hidden_dim=128,\n",
    "                         weight_norm=True,\n",
    "                         io_spec=io))"
   ]
  },
  {
   "cell_type": "markdown",
   "id": "cfb06837",
   "metadata": {},
   "source": [
    "### Configure Training"
   ]
  },
  {
   "cell_type": "code",
   "execution_count": null,
   "id": "b6cc0195",
   "metadata": {},
   "outputs": [],
   "source": [
    "# OPTIMIZATION LOOP\n",
    "loop = mmk.TrainARMLoop.from_config(\n",
    "    mmk.TrainARMConfig(max_lr=1e-3,\n",
    "                       betas=(0.9, 0.9),\n",
    "                       div_factor=1.,\n",
    "                       final_div_factor=1.,\n",
    "                       pct_start=0.0,\n",
    "                       temperature=(1., .75, 0.5, .1),\n",
    "                       n_examples=4,\n",
    "                       prompt_length_sec=1.,\n",
    "                       batch_size=32,\n",
    "                       tbptt_chunk_length=8 * SAMPLE_RATE,\n",
    "                       batch_length=2048,\n",
    "                       oversampling=4,\n",
    "                       limit_train_batches=None,\n",
    "                       max_epochs=2000,\n",
    "                       every_n_epochs=5,\n",
    "                       outputs_duration_sec=10,\n",
    "                       MONITOR_TRAINING=True,\n",
    "                       OUTPUT_TRAINING=False,\n",
    "                       CHECKPOINT_TRAINING=True),\n",
    "    dataset,\n",
    "    net,\n",
    ")"
   ]
  },
  {
   "cell_type": "markdown",
   "id": "1c7f95cf",
   "metadata": {},
   "source": [
    "### RUN"
   ]
  },
  {
   "cell_type": "code",
   "execution_count": null,
   "id": "ff0942e9",
   "metadata": {},
   "outputs": [],
   "source": [
    "loop.run()\n",
    "None"
   ]
  },
  {
   "cell_type": "markdown",
   "id": "d1aab333",
   "metadata": {},
   "source": [
    "----------------------------"
   ]
  },
  {
   "cell_type": "markdown",
   "id": "fdccbcd8",
   "metadata": {},
   "source": [
    "<img src=\"https://ktonal.com/k-circle-bw.png\" alt=\"logo\" width=\"75\"/>"
   ]
  }
 ],
 "metadata": {},
 "nbformat": 4,
 "nbformat_minor": 5
}
